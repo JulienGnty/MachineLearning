{
  "nbformat": 4,
  "nbformat_minor": 0,
  "metadata": {
    "colab": {
      "provenance": []
    },
    "kernelspec": {
      "name": "python3",
      "display_name": "Python 3"
    },
    "language_info": {
      "name": "python"
    },
    "accelerator": "GPU",
    "gpuClass": "standard"
  },
  "cells": [
    {
      "cell_type": "code",
      "source": [
        "import os\n",
        "import time\n",
        "import cv2\n",
        "import numpy as np\n",
        "import matplotlib.pyplot as plt\n",
        "import seaborn as sns\n",
        "import tensorflow as tf\n",
        "from PIL import Image\n",
        "from numpy import asarray\n",
        "from sklearn.preprocessing import LabelEncoder\n",
        "from sklearn.model_selection import train_test_split\n",
        "from sklearn.metrics import confusion_matrix, classification_report\n",
        "from tensorflow.keras import Input, Model\n",
        "from tensorflow.keras.layers import Dense, Dropout, Flatten, Convolution2D, MaxPooling2D, Input"
      ],
      "metadata": {
        "id": "hyH77IUJVSnn"
      },
      "execution_count": 116,
      "outputs": []
    },
    {
      "cell_type": "code",
      "source": [
        "def affiche(history):\n",
        "    # summarize history for accuracy\n",
        "    plt.plot(history.history['accuracy'])\n",
        "    plt.plot(history.history['val_accuracy'])\n",
        "    plt.title('model accuracy')\n",
        "    plt.ylabel('accuracy')\n",
        "    plt.xlabel('epoch')\n",
        "    plt.legend(['train', 'test'], loc='upper left')\n",
        "    plt.show()\n",
        "    # summarize history for loss\n",
        "    plt.plot(history.history['loss'])\n",
        "    plt.plot(history.history['val_loss'])\n",
        "    plt.title('model loss')\n",
        "    plt.ylabel('loss')\n",
        "    plt.xlabel('epoch')\n",
        "    plt.legend(['train', 'test'], loc='upper left')\n",
        "    plt.show()"
      ],
      "metadata": {
        "id": "wbeWuhydYy3B"
      },
      "execution_count": 117,
      "outputs": []
    },
    {
      "cell_type": "code",
      "source": [
        "path = \"drive/MyDrive/Colab Notebooks/source/\"\n",
        "folders = [\"bishop\", \"knight\", \"pawn\", \"queen\", \"rook\"]\n",
        "\n",
        "cpt = 0\n",
        "for f in folders:\n",
        "    cpt += len(os.listdir(path+f))\n",
        "\n",
        "X = np.empty((cpt, 50, 50))\n",
        "Y = np.empty((cpt), dtype = object)\n",
        "i = 0\n",
        "\n",
        "for f in folders:\n",
        "    for file in os.listdir(path+f):\n",
        "        #img = Image.open(\"source/\"+f+\"/\"+file)\n",
        "        img = cv2.imread(path+f+\"/\"+file)\n",
        "        img = cv2.cvtColor(img , cv2.COLOR_BGR2GRAY)        #convert colored images into grayscale format\n",
        "        img = cv2.resize(img , (50,50))\n",
        "        X[i] = asarray(img)\n",
        "        Y[i] = f\n",
        "        i += 1\n",
        "\n",
        "X /= 255\n",
        "y_label_encoder = LabelEncoder()\n",
        "Y = y_label_encoder.fit_transform(Y)\n",
        "X.shape"
      ],
      "metadata": {
        "colab": {
          "base_uri": "https://localhost:8080/"
        },
        "id": "d9hb-kDwVUci",
        "outputId": "551d11a4-a31f-4213-955e-030061909dca"
      },
      "execution_count": 128,
      "outputs": [
        {
          "output_type": "execute_result",
          "data": {
            "text/plain": [
              "(651, 50, 50)"
            ]
          },
          "metadata": {},
          "execution_count": 128
        }
      ]
    },
    {
      "cell_type": "code",
      "source": [
        "x_train, x_test, y_train, y_test = train_test_split(X, Y, test_size=0.2)\n",
        "x_train.shape, x_test.shape, y_train.shape, y_test.shape"
      ],
      "metadata": {
        "colab": {
          "base_uri": "https://localhost:8080/"
        },
        "id": "bnrzA68CVhu9",
        "outputId": "3146e1f5-9988-4e9e-9e65-25ce0e93e498"
      },
      "execution_count": 129,
      "outputs": [
        {
          "output_type": "execute_result",
          "data": {
            "text/plain": [
              "((520, 50, 50), (131, 50, 50), (520,), (131,))"
            ]
          },
          "metadata": {},
          "execution_count": 129
        }
      ]
    },
    {
      "cell_type": "code",
      "source": [
        "for i in range(5):\n",
        "    plt.subplot(1,5,i+1)\n",
        "    plt.imshow(x_test[i,:], cmap = \"gray\")\n",
        "    plt.axis('off')\n",
        "plt.show()"
      ],
      "metadata": {
        "colab": {
          "base_uri": "https://localhost:8080/",
          "height": 89
        },
        "id": "sbr8dX1hVl7f",
        "outputId": "55675be2-43b4-439d-a9d4-a7defe1c6ac2"
      },
      "execution_count": 130,
      "outputs": [
        {
          "output_type": "display_data",
          "data": {
            "text/plain": [
              "<Figure size 432x288 with 5 Axes>"
            ],
            "image/png": "[encoded data removed]"
          },
          "metadata": {
            "needs_background": "light"
          }
        }
      ]
    },
    {
      "cell_type": "code",
      "source": [
        "# Preprocess input data\n",
        "x_train = x_train.reshape(x_train.shape[0], x_train.shape[1], x_train.shape[2], 1)\n",
        "x_test = x_test.reshape(x_test.shape[0], x_test.shape[1], x_test.shape[2], 1)\n",
        "\n",
        "# Preprocess class labels\n",
        "y_train = tf.keras.utils.to_categorical(y_train, 5)\n",
        "y_test = tf.keras.utils.to_categorical(y_test, 5)"
      ],
      "metadata": {
        "id": "BogYrigKVm6v"
      },
      "execution_count": 131,
      "outputs": []
    },
    {
      "cell_type": "code",
      "source": [
        "print(\"nombre d'images en train : \", len(x_train))\n",
        "print(\"nombre d'images en test : \", len(x_test))\n",
        "\n",
        "print(\"la taille des images est : \", len(x_train[0]),'x',len(x_train[0][0]),\"pixels\")\n",
        "\n",
        "print(\"Nombre de  de classes : \", y_test.shape[1])"
      ],
      "metadata": {
        "colab": {
          "base_uri": "https://localhost:8080/"
        },
        "id": "jWJcTywbVoHK",
        "outputId": "6e846d5c-a7aa-47e7-8e54-a418cf714540"
      },
      "execution_count": 132,
      "outputs": [
        {
          "output_type": "stream",
          "name": "stdout",
          "text": [
            "nombre d'images en train :  520\n",
            "nombre d'images en test :  131\n",
            "la taille des images est :  50 x 50 pixels\n",
            "Nombre de  de classes :  5\n"
          ]
        }
      ]
    },
    {
      "cell_type": "code",
      "source": [
        "# kernel_size  = taille de la petite fenêtre d'analyse des pixels. (3,3) on analyse par carré de 3*3 pixels\n",
        "kernel = (2,2)\n",
        "\n",
        "inputs = Input(shape=(50,50,1)) \n",
        "x = inputs\n",
        "x = Convolution2D(256, kernel_size = kernel, activation='relu' )(x)\n",
        "x = MaxPooling2D(kernel)(x) \n",
        "x = Flatten()(x) \n",
        "x = Dense(256, activation='relu')(x)\n",
        "x = Dropout(0.25)(x) \n",
        "outputs = Dense(5, activation='softmax')(x) \n",
        "model = Model(inputs, outputs) \n",
        "model.summary() "
      ],
      "metadata": {
        "colab": {
          "base_uri": "https://localhost:8080/"
        },
        "id": "2uClJzVAVpKR",
        "outputId": "11fd4c71-2100-4875-d734-8ac47aeef6fe"
      },
      "execution_count": 137,
      "outputs": [
        {
          "output_type": "stream",
          "name": "stdout",
          "text": [
            "Model: \"model_26\"\n",
            "_________________________________________________________________\n",
            " Layer (type)                Output Shape              Param #   \n",
            "=================================================================\n",
            " input_27 (InputLayer)       [(None, 50, 50, 1)]       0         \n",
            "                                                                 \n",
            " conv2d_43 (Conv2D)          (None, 49, 49, 256)       1280      \n",
            "                                                                 \n",
            " max_pooling2d_26 (MaxPoolin  (None, 24, 24, 256)      0         \n",
            " g2D)                                                            \n",
            "                                                                 \n",
            " flatten_26 (Flatten)        (None, 147456)            0         \n",
            "                                                                 \n",
            " dense_95 (Dense)            (None, 256)               37748992  \n",
            "                                                                 \n",
            " dropout_10 (Dropout)        (None, 256)               0         \n",
            "                                                                 \n",
            " dense_96 (Dense)            (None, 5)                 1285      \n",
            "                                                                 \n",
            "=================================================================\n",
            "Total params: 37,751,557\n",
            "Trainable params: 37,751,557\n",
            "Non-trainable params: 0\n",
            "_________________________________________________________________\n"
          ]
        }
      ]
    },
    {
      "cell_type": "code",
      "source": [
        "lr = 0.1\n",
        "batch_size = 32\n",
        "epochs = 20\n",
        "sgd1= tf.keras.optimizers.SGD(learning_rate = lr, momentum = 0.9)\n",
        "model.compile(loss = 'categorical_crossentropy', optimizer = sgd1, metrics = ['accuracy'])\n",
        "history = model.fit(x_train, y_train, batch_size = batch_size, epochs = epochs, \n",
        "                    verbose = 1,validation_data = (x_test, y_test))\n",
        "affiche(history)"
      ],
      "metadata": {
        "colab": {
          "base_uri": "https://localhost:8080/",
          "height": 1000
        },
        "id": "XNaWQpXjVrGp",
        "outputId": "475bda2f-dc1d-4174-878b-87e474ee8341"
      },
      "execution_count": 138,
      "outputs": [
        {
          "output_type": "stream",
          "name": "stdout",
          "text": [
            "Epoch 1/20\n",
            "17/17 [==============================] - 1s 33ms/step - loss: 1.6624 - accuracy: 0.2519 - val_loss: 1.5947 - val_accuracy: 0.2137\n",
            "Epoch 2/20\n",
            "17/17 [==============================] - 0s 17ms/step - loss: 1.5495 - accuracy: 0.3038 - val_loss: 1.5844 - val_accuracy: 0.1679\n",
            "Epoch 3/20\n",
            "17/17 [==============================] - 0s 17ms/step - loss: 1.4759 - accuracy: 0.3712 - val_loss: 2.1645 - val_accuracy: 0.2290\n",
            "Epoch 4/20\n",
            "17/17 [==============================] - 0s 20ms/step - loss: 1.4809 - accuracy: 0.3827 - val_loss: 1.5576 - val_accuracy: 0.3130\n",
            "Epoch 5/20\n",
            "17/17 [==============================] - 0s 19ms/step - loss: 1.2320 - accuracy: 0.5077 - val_loss: 1.4608 - val_accuracy: 0.3664\n",
            "Epoch 6/20\n",
            "17/17 [==============================] - 0s 16ms/step - loss: 1.2792 - accuracy: 0.4904 - val_loss: 1.4762 - val_accuracy: 0.2901\n",
            "Epoch 7/20\n",
            "17/17 [==============================] - 0s 17ms/step - loss: 1.2729 - accuracy: 0.5019 - val_loss: 1.5425 - val_accuracy: 0.3664\n",
            "Epoch 8/20\n",
            "17/17 [==============================] - 0s 16ms/step - loss: 1.1354 - accuracy: 0.5423 - val_loss: 1.6229 - val_accuracy: 0.3053\n",
            "Epoch 9/20\n",
            "17/17 [==============================] - 0s 17ms/step - loss: 0.8770 - accuracy: 0.6596 - val_loss: 1.9219 - val_accuracy: 0.3740\n",
            "Epoch 10/20\n",
            "17/17 [==============================] - 0s 16ms/step - loss: 0.7362 - accuracy: 0.7058 - val_loss: 2.2656 - val_accuracy: 0.3588\n",
            "Epoch 11/20\n",
            "17/17 [==============================] - 0s 17ms/step - loss: 0.7610 - accuracy: 0.7346 - val_loss: 2.2092 - val_accuracy: 0.3588\n",
            "Epoch 12/20\n",
            "17/17 [==============================] - 0s 17ms/step - loss: 0.6770 - accuracy: 0.7519 - val_loss: 1.9150 - val_accuracy: 0.3588\n",
            "Epoch 13/20\n",
            "17/17 [==============================] - 0s 17ms/step - loss: 0.5914 - accuracy: 0.7942 - val_loss: 2.1474 - val_accuracy: 0.3893\n",
            "Epoch 14/20\n",
            "17/17 [==============================] - 0s 17ms/step - loss: 0.7417 - accuracy: 0.7423 - val_loss: 2.1873 - val_accuracy: 0.3359\n",
            "Epoch 15/20\n",
            "17/17 [==============================] - 0s 19ms/step - loss: 0.7848 - accuracy: 0.7365 - val_loss: 2.6093 - val_accuracy: 0.3740\n",
            "Epoch 16/20\n",
            "17/17 [==============================] - 0s 17ms/step - loss: 0.5362 - accuracy: 0.8058 - val_loss: 2.9408 - val_accuracy: 0.4122\n",
            "Epoch 17/20\n",
            "17/17 [==============================] - 0s 17ms/step - loss: 0.5680 - accuracy: 0.8154 - val_loss: 2.1788 - val_accuracy: 0.3817\n",
            "Epoch 18/20\n",
            "17/17 [==============================] - 0s 16ms/step - loss: 0.5727 - accuracy: 0.7904 - val_loss: 2.6274 - val_accuracy: 0.3740\n",
            "Epoch 19/20\n",
            "17/17 [==============================] - 0s 17ms/step - loss: 0.4268 - accuracy: 0.8308 - val_loss: 2.6700 - val_accuracy: 0.3893\n",
            "Epoch 20/20\n",
            "17/17 [==============================] - 0s 17ms/step - loss: 0.4744 - accuracy: 0.8269 - val_loss: 2.6105 - val_accuracy: 0.3740\n"
          ]
        },
        {
          "output_type": "display_data",
          "data": {
            "text/plain": [
              "<Figure size 432x288 with 1 Axes>"
            ],
            "image/png": "[encoded data removed]"
          },
          "metadata": {
            "needs_background": "light"
          }
        },
        {
          "output_type": "display_data",
          "data": {
            "text/plain": [
              "<Figure size 432x288 with 1 Axes>"
            ],
            "image/png": "[encoded data removed]"
          },
          "metadata": {
            "needs_background": "light"
          }
        }
      ]
    },
    {
      "cell_type": "code",
      "source": [
        "score = model.evaluate(x_test, y_test, verbose=0)\n",
        "print('Test loss:', score[0])\n",
        "print('Test accuracy:', score[1]*100)\n",
        "y_pred = model.predict(x_test)\n",
        "y_pred = y_pred.argmax(axis=-1)\n",
        "print('Confusion Matrix')\n",
        "cm = confusion_matrix(y_test.argmax(axis = -1), y_pred)\n",
        "print(cm)\n",
        "sns.heatmap(cm)\n",
        "plt.show()"
      ],
      "metadata": {
        "colab": {
          "base_uri": "https://localhost:8080/",
          "height": 425
        },
        "id": "SbfPzMp4VuC7",
        "outputId": "28536268-0279-4a93-e196-22268f9d0f58"
      },
      "execution_count": 139,
      "outputs": [
        {
          "output_type": "stream",
          "name": "stdout",
          "text": [
            "Test loss: 2.6105010509490967\n",
            "Test accuracy: 37.40457892417908\n",
            "5/5 [==============================] - 0s 4ms/step\n",
            "Confusion Matrix\n",
            "[[11  4  7  5  3]\n",
            " [ 0 18  4  1  5]\n",
            " [ 2  3  6  2  1]\n",
            " [10  4  6  2  3]\n",
            " [ 3  7  5  7 12]]\n"
          ]
        },
        {
          "output_type": "display_data",
          "data": {
            "text/plain": [
              "<Figure size 432x288 with 2 Axes>"
            ],
            "image/png": "[encoded data removed]"
          },
          "metadata": {
            "needs_background": "light"
          }
        }
      ]
    },
    {
      "cell_type": "code",
      "source": [
        "print(classification_report(y_test.argmax(axis = -1), y_pred))"
      ],
      "metadata": {
        "colab": {
          "base_uri": "https://localhost:8080/"
        },
        "id": "jHuBEbTZVvoF",
        "outputId": "82525657-88f3-4b23-9166-5cff75aa29b0"
      },
      "execution_count": 140,
      "outputs": [
        {
          "output_type": "stream",
          "name": "stdout",
          "text": [
            "              precision    recall  f1-score   support\n",
            "\n",
            "           0       0.42      0.37      0.39        30\n",
            "           1       0.50      0.64      0.56        28\n",
            "           2       0.21      0.43      0.29        14\n",
            "           3       0.12      0.08      0.10        25\n",
            "           4       0.50      0.35      0.41        34\n",
            "\n",
            "    accuracy                           0.37       131\n",
            "   macro avg       0.35      0.37      0.35       131\n",
            "weighted avg       0.38      0.37      0.37       131\n",
            "\n"
          ]
        }
      ]
    },
    {
      "cell_type": "markdown",
      "source": [
        "Modèle pas très satisfaisant. Dataset trop petit ou images trop complexes ?"
      ],
      "metadata": {
        "id": "jW_twEjcbGmh"
      }
    },
    {
      "cell_type": "code",
      "source": [],
      "metadata": {
        "id": "ZOPAemnHVxYO"
      },
      "execution_count": null,
      "outputs": []
    }
  ]
}