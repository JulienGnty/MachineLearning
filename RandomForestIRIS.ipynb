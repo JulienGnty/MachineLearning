{
 "cells": [
  {
   "cell_type": "markdown",
   "metadata": {},
   "source": [
    "# Random Forest x IRIS "
   ]
  },
  {
   "cell_type": "code",
   "execution_count": 70,
   "metadata": {},
   "outputs": [],
   "source": [
    "import numpy as np\n",
    "import pandas as pd\n",
    "import matplotlib.pyplot as plt\n",
    "from sklearn.datasets import load_iris\n",
    "from sklearn.datasets import make_classification\n",
    "from sklearn.model_selection import train_test_split\n",
    "from sklearn.ensemble import RandomForestRegressor\n",
    "from sklearn.ensemble import RandomForestClassifier\n",
    "from sklearn.model_selection import RandomizedSearchCV\n",
    "from sklearn.metrics import r2_score\n",
    "import time"
   ]
  },
  {
   "cell_type": "markdown",
   "metadata": {},
   "source": [
    "### Importez le dataset IRIS "
   ]
  },
  {
   "cell_type": "code",
   "execution_count": 71,
   "metadata": {},
   "outputs": [
    {
     "data": {
      "text/plain": [
       "numpy.ndarray"
      ]
     },
     "execution_count": 71,
     "metadata": {},
     "output_type": "execute_result"
    }
   ],
   "source": [
    "X, y = load_iris(return_X_y=True)\n",
    "type(X)"
   ]
  },
  {
   "cell_type": "markdown",
   "metadata": {},
   "source": [
    "### Faites un DataFrame "
   ]
  },
  {
   "cell_type": "code",
   "execution_count": 72,
   "metadata": {},
   "outputs": [
    {
     "data": {
      "text/html": [
       "<div>\n",
       "<style scoped>\n",
       "    .dataframe tbody tr th:only-of-type {\n",
       "        vertical-align: middle;\n",
       "    }\n",
       "\n",
       "    .dataframe tbody tr th {\n",
       "        vertical-align: top;\n",
       "    }\n",
       "\n",
       "    .dataframe thead th {\n",
       "        text-align: right;\n",
       "    }\n",
       "</style>\n",
       "<table border=\"1\" class=\"dataframe\">\n",
       "  <thead>\n",
       "    <tr style=\"text-align: right;\">\n",
       "      <th></th>\n",
       "      <th>sepal length (cm)</th>\n",
       "      <th>sepal width (cm)</th>\n",
       "      <th>petal length (cm)</th>\n",
       "      <th>petal width (cm)</th>\n",
       "      <th>target</th>\n",
       "    </tr>\n",
       "  </thead>\n",
       "  <tbody>\n",
       "    <tr>\n",
       "      <th>0</th>\n",
       "      <td>5.1</td>\n",
       "      <td>3.5</td>\n",
       "      <td>1.4</td>\n",
       "      <td>0.2</td>\n",
       "      <td>0.0</td>\n",
       "    </tr>\n",
       "    <tr>\n",
       "      <th>1</th>\n",
       "      <td>4.9</td>\n",
       "      <td>3.0</td>\n",
       "      <td>1.4</td>\n",
       "      <td>0.2</td>\n",
       "      <td>0.0</td>\n",
       "    </tr>\n",
       "    <tr>\n",
       "      <th>2</th>\n",
       "      <td>4.7</td>\n",
       "      <td>3.2</td>\n",
       "      <td>1.3</td>\n",
       "      <td>0.2</td>\n",
       "      <td>0.0</td>\n",
       "    </tr>\n",
       "    <tr>\n",
       "      <th>3</th>\n",
       "      <td>4.6</td>\n",
       "      <td>3.1</td>\n",
       "      <td>1.5</td>\n",
       "      <td>0.2</td>\n",
       "      <td>0.0</td>\n",
       "    </tr>\n",
       "    <tr>\n",
       "      <th>4</th>\n",
       "      <td>5.0</td>\n",
       "      <td>3.6</td>\n",
       "      <td>1.4</td>\n",
       "      <td>0.2</td>\n",
       "      <td>0.0</td>\n",
       "    </tr>\n",
       "    <tr>\n",
       "      <th>...</th>\n",
       "      <td>...</td>\n",
       "      <td>...</td>\n",
       "      <td>...</td>\n",
       "      <td>...</td>\n",
       "      <td>...</td>\n",
       "    </tr>\n",
       "    <tr>\n",
       "      <th>145</th>\n",
       "      <td>6.7</td>\n",
       "      <td>3.0</td>\n",
       "      <td>5.2</td>\n",
       "      <td>2.3</td>\n",
       "      <td>2.0</td>\n",
       "    </tr>\n",
       "    <tr>\n",
       "      <th>146</th>\n",
       "      <td>6.3</td>\n",
       "      <td>2.5</td>\n",
       "      <td>5.0</td>\n",
       "      <td>1.9</td>\n",
       "      <td>2.0</td>\n",
       "    </tr>\n",
       "    <tr>\n",
       "      <th>147</th>\n",
       "      <td>6.5</td>\n",
       "      <td>3.0</td>\n",
       "      <td>5.2</td>\n",
       "      <td>2.0</td>\n",
       "      <td>2.0</td>\n",
       "    </tr>\n",
       "    <tr>\n",
       "      <th>148</th>\n",
       "      <td>6.2</td>\n",
       "      <td>3.4</td>\n",
       "      <td>5.4</td>\n",
       "      <td>2.3</td>\n",
       "      <td>2.0</td>\n",
       "    </tr>\n",
       "    <tr>\n",
       "      <th>149</th>\n",
       "      <td>5.9</td>\n",
       "      <td>3.0</td>\n",
       "      <td>5.1</td>\n",
       "      <td>1.8</td>\n",
       "      <td>2.0</td>\n",
       "    </tr>\n",
       "  </tbody>\n",
       "</table>\n",
       "<p>150 rows × 5 columns</p>\n",
       "</div>"
      ],
      "text/plain": [
       "     sepal length (cm)  sepal width (cm)  petal length (cm)  petal width (cm)  \\\n",
       "0                  5.1               3.5                1.4               0.2   \n",
       "1                  4.9               3.0                1.4               0.2   \n",
       "2                  4.7               3.2                1.3               0.2   \n",
       "3                  4.6               3.1                1.5               0.2   \n",
       "4                  5.0               3.6                1.4               0.2   \n",
       "..                 ...               ...                ...               ...   \n",
       "145                6.7               3.0                5.2               2.3   \n",
       "146                6.3               2.5                5.0               1.9   \n",
       "147                6.5               3.0                5.2               2.0   \n",
       "148                6.2               3.4                5.4               2.3   \n",
       "149                5.9               3.0                5.1               1.8   \n",
       "\n",
       "     target  \n",
       "0       0.0  \n",
       "1       0.0  \n",
       "2       0.0  \n",
       "3       0.0  \n",
       "4       0.0  \n",
       "..      ...  \n",
       "145     2.0  \n",
       "146     2.0  \n",
       "147     2.0  \n",
       "148     2.0  \n",
       "149     2.0  \n",
       "\n",
       "[150 rows x 5 columns]"
      ]
     },
     "execution_count": 72,
     "metadata": {},
     "output_type": "execute_result"
    }
   ],
   "source": [
    "iris = load_iris()\n",
    "df1 = pd.DataFrame(data= np.c_[iris['data'], iris['target']],\n",
    "                     columns= iris['feature_names'] + ['target'])\n",
    "df1"
   ]
  },
  {
   "cell_type": "markdown",
   "metadata": {},
   "source": [
    "### Définissez les variables features et la target & effectuez un split "
   ]
  },
  {
   "cell_type": "code",
   "execution_count": 73,
   "metadata": {},
   "outputs": [
    {
     "data": {
      "text/plain": [
       "(array([[7.4, 2.8, 6.1, 1.9],\n",
       "        [7.7, 2.8, 6.7, 2. ],\n",
       "        [5.5, 2.4, 3.7, 1. ],\n",
       "        [6.1, 2.8, 4. , 1.3],\n",
       "        [5.5, 2.5, 4. , 1.3],\n",
       "        [6.3, 3.3, 6. , 2.5],\n",
       "        [4.6, 3.4, 1.4, 0.3],\n",
       "        [6.3, 2.7, 4.9, 1.8],\n",
       "        [4.8, 3.1, 1.6, 0.2],\n",
       "        [6.2, 2.8, 4.8, 1.8],\n",
       "        [5.1, 3.8, 1.9, 0.4],\n",
       "        [6.4, 2.7, 5.3, 1.9],\n",
       "        [5. , 2. , 3.5, 1. ],\n",
       "        [5.5, 4.2, 1.4, 0.2],\n",
       "        [5.2, 4.1, 1.5, 0.1],\n",
       "        [5.8, 2.7, 3.9, 1.2],\n",
       "        [7.2, 3. , 5.8, 1.6],\n",
       "        [5.1, 3.5, 1.4, 0.3],\n",
       "        [5.7, 4.4, 1.5, 0.4],\n",
       "        [5.2, 2.7, 3.9, 1.4],\n",
       "        [7. , 3.2, 4.7, 1.4],\n",
       "        [6.9, 3.1, 4.9, 1.5],\n",
       "        [5.3, 3.7, 1.5, 0.2],\n",
       "        [5.6, 2.9, 3.6, 1.3],\n",
       "        [6.7, 3. , 5.2, 2.3],\n",
       "        [4.9, 3. , 1.4, 0.2],\n",
       "        [6.8, 3.2, 5.9, 2.3],\n",
       "        [6.3, 2.3, 4.4, 1.3],\n",
       "        [6.9, 3.2, 5.7, 2.3],\n",
       "        [5. , 3.6, 1.4, 0.2],\n",
       "        [4.9, 3.1, 1.5, 0.2],\n",
       "        [6.7, 3.1, 4.7, 1.5],\n",
       "        [4.9, 3.1, 1.5, 0.1],\n",
       "        [6.3, 2.8, 5.1, 1.5],\n",
       "        [4.9, 3.6, 1.4, 0.1],\n",
       "        [4.8, 3.4, 1.9, 0.2],\n",
       "        [5.6, 3. , 4.1, 1.3],\n",
       "        [5.1, 3.4, 1.5, 0.2],\n",
       "        [6. , 2.9, 4.5, 1.5],\n",
       "        [4.3, 3. , 1.1, 0.1],\n",
       "        [4.8, 3. , 1.4, 0.1],\n",
       "        [5.7, 3. , 4.2, 1.2],\n",
       "        [5.8, 2.8, 5.1, 2.4],\n",
       "        [5.8, 2.7, 5.1, 1.9],\n",
       "        [5. , 3. , 1.6, 0.2],\n",
       "        [6.5, 3.2, 5.1, 2. ],\n",
       "        [6.4, 2.9, 4.3, 1.3],\n",
       "        [5.1, 3.8, 1.5, 0.3],\n",
       "        [6.8, 3. , 5.5, 2.1],\n",
       "        [4.7, 3.2, 1.6, 0.2],\n",
       "        [6.4, 2.8, 5.6, 2.1],\n",
       "        [7.7, 3.8, 6.7, 2.2],\n",
       "        [5.4, 3.9, 1.3, 0.4],\n",
       "        [6.5, 2.8, 4.6, 1.5],\n",
       "        [6.3, 2.5, 5. , 1.9],\n",
       "        [7.9, 3.8, 6.4, 2. ],\n",
       "        [6.7, 3.1, 4.4, 1.4],\n",
       "        [6.3, 2.5, 4.9, 1.5],\n",
       "        [5.5, 3.5, 1.3, 0.2],\n",
       "        [6. , 2.7, 5.1, 1.6],\n",
       "        [5.6, 2.7, 4.2, 1.3],\n",
       "        [7.7, 3. , 6.1, 2.3],\n",
       "        [6.2, 2.2, 4.5, 1.5],\n",
       "        [6.3, 2.9, 5.6, 1.8],\n",
       "        [5. , 3.5, 1.3, 0.3],\n",
       "        [5.5, 2.4, 3.8, 1.1],\n",
       "        [4.4, 2.9, 1.4, 0.2],\n",
       "        [7.1, 3. , 5.9, 2.1],\n",
       "        [6.8, 2.8, 4.8, 1.4],\n",
       "        [7.6, 3. , 6.6, 2.1],\n",
       "        [5.7, 2.6, 3.5, 1. ],\n",
       "        [6.7, 3.3, 5.7, 2.5],\n",
       "        [6.3, 3.4, 5.6, 2.4],\n",
       "        [5. , 3.4, 1.6, 0.4],\n",
       "        [6.7, 3.3, 5.7, 2.1],\n",
       "        [6.6, 2.9, 4.6, 1.3],\n",
       "        [4.7, 3.2, 1.3, 0.2],\n",
       "        [6.4, 3.2, 5.3, 2.3],\n",
       "        [4.6, 3.1, 1.5, 0.2],\n",
       "        [6.4, 3.1, 5.5, 1.8],\n",
       "        [5.8, 2.7, 4.1, 1. ],\n",
       "        [5.9, 3. , 4.2, 1.5],\n",
       "        [5.1, 3.8, 1.6, 0.2],\n",
       "        [5.9, 3. , 5.1, 1.8],\n",
       "        [7.2, 3.6, 6.1, 2.5],\n",
       "        [4.8, 3.4, 1.6, 0.2],\n",
       "        [5. , 3.5, 1.6, 0.6],\n",
       "        [6.9, 3.1, 5.4, 2.1],\n",
       "        [5.8, 2.7, 5.1, 1.9],\n",
       "        [5.7, 2.8, 4.5, 1.3],\n",
       "        [7.2, 3.2, 6. , 1.8],\n",
       "        [5.2, 3.5, 1.5, 0.2],\n",
       "        [7.7, 2.6, 6.9, 2.3],\n",
       "        [5.5, 2.6, 4.4, 1.2],\n",
       "        [5.7, 2.5, 5. , 2. ],\n",
       "        [5.6, 2.8, 4.9, 2. ],\n",
       "        [5.4, 3.4, 1.5, 0.4],\n",
       "        [6. , 2.2, 4. , 1. ],\n",
       "        [6.2, 2.9, 4.3, 1.3],\n",
       "        [6.1, 2.8, 4.7, 1.2],\n",
       "        [5.1, 2.5, 3. , 1.1],\n",
       "        [6.1, 3. , 4.6, 1.4],\n",
       "        [5.1, 3.5, 1.4, 0.2],\n",
       "        [6. , 2.2, 5. , 1.5],\n",
       "        [5.9, 3.2, 4.8, 1.8],\n",
       "        [6.6, 3. , 4.4, 1.4],\n",
       "        [5.4, 3.9, 1.7, 0.4],\n",
       "        [5. , 3.3, 1.4, 0.2],\n",
       "        [5.1, 3.7, 1.5, 0.4],\n",
       "        [4.8, 3. , 1.4, 0.3],\n",
       "        [5.8, 2.6, 4. , 1.2],\n",
       "        [4.6, 3.2, 1.4, 0.2]]),\n",
       " array([[4.4, 3.2, 1.3, 0.2],\n",
       "        [6.3, 3.3, 4.7, 1.6],\n",
       "        [5.7, 2.8, 4.1, 1.3],\n",
       "        [5.5, 2.3, 4. , 1.3],\n",
       "        [4.4, 3. , 1.3, 0.2],\n",
       "        [6. , 3.4, 4.5, 1.6],\n",
       "        [6.1, 2.6, 5.6, 1.4],\n",
       "        [6.9, 3.1, 5.1, 2.3],\n",
       "        [7.3, 2.9, 6.3, 1.8],\n",
       "        [6.4, 2.8, 5.6, 2.2],\n",
       "        [4.9, 2.5, 4.5, 1.7],\n",
       "        [6.7, 3.1, 5.6, 2.4],\n",
       "        [5.6, 2.5, 3.9, 1.1],\n",
       "        [5.4, 3. , 4.5, 1.5],\n",
       "        [5.7, 3.8, 1.7, 0.3],\n",
       "        [5.4, 3.7, 1.5, 0.2],\n",
       "        [5.4, 3.4, 1.7, 0.2],\n",
       "        [6.1, 2.9, 4.7, 1.4],\n",
       "        [5.8, 4. , 1.2, 0.2],\n",
       "        [5.7, 2.9, 4.2, 1.3],\n",
       "        [6.5, 3. , 5.2, 2. ],\n",
       "        [5. , 2.3, 3.3, 1. ],\n",
       "        [6. , 3. , 4.8, 1.8],\n",
       "        [6.4, 3.2, 4.5, 1.5],\n",
       "        [6.5, 3. , 5.5, 1.8],\n",
       "        [4.9, 2.4, 3.3, 1. ],\n",
       "        [4.5, 2.3, 1.3, 0.3],\n",
       "        [6.1, 3. , 4.9, 1.8],\n",
       "        [5. , 3.4, 1.5, 0.2],\n",
       "        [6.7, 3. , 5. , 1.7],\n",
       "        [6.7, 2.5, 5.8, 1.8],\n",
       "        [6.5, 3. , 5.8, 2.2],\n",
       "        [4.6, 3.6, 1. , 0.2],\n",
       "        [5.2, 3.4, 1.4, 0.2],\n",
       "        [5. , 3.2, 1.2, 0.2],\n",
       "        [5.1, 3.3, 1.7, 0.5],\n",
       "        [6.2, 3.4, 5.4, 2.3],\n",
       "        [5.6, 3. , 4.5, 1.5]]),\n",
       " array([2, 2, 1, 1, 1, 2, 0, 2, 0, 2, 0, 2, 1, 0, 0, 1, 2, 0, 0, 1, 1, 1,\n",
       "        0, 1, 2, 0, 2, 1, 2, 0, 0, 1, 0, 2, 0, 0, 1, 0, 1, 0, 0, 1, 2, 2,\n",
       "        0, 2, 1, 0, 2, 0, 2, 2, 0, 1, 2, 2, 1, 1, 0, 1, 1, 2, 1, 2, 0, 1,\n",
       "        0, 2, 1, 2, 1, 2, 2, 0, 2, 1, 0, 2, 0, 2, 1, 1, 0, 2, 2, 0, 0, 2,\n",
       "        2, 1, 2, 0, 2, 1, 2, 2, 0, 1, 1, 1, 1, 1, 0, 2, 1, 1, 0, 0, 0, 0,\n",
       "        1, 0]),\n",
       " array([0, 1, 1, 1, 0, 1, 2, 2, 2, 2, 2, 2, 1, 1, 0, 0, 0, 1, 0, 1, 2, 1,\n",
       "        2, 1, 2, 1, 0, 2, 0, 1, 2, 2, 0, 0, 0, 0, 2, 1]))"
      ]
     },
     "execution_count": 73,
     "metadata": {},
     "output_type": "execute_result"
    }
   ],
   "source": [
    "X_train, X_test, y_train, y_test = train_test_split(X, y, stratify=y, random_state=42)\n",
    "X_train, X_test, y_train, y_test"
   ]
  },
  {
   "cell_type": "markdown",
   "metadata": {},
   "source": [
    "### Entrainez le classifieur "
   ]
  },
  {
   "cell_type": "code",
   "execution_count": 74,
   "metadata": {},
   "outputs": [
    {
     "data": {
      "text/plain": [
       "RandomForestClassifier(random_state=0)"
      ]
     },
     "execution_count": 74,
     "metadata": {},
     "output_type": "execute_result"
    }
   ],
   "source": [
    "rfc = RandomForestClassifier(random_state=0)\n",
    "rfc.fit(X_train, y_train)"
   ]
  },
  {
   "cell_type": "markdown",
   "metadata": {},
   "source": [
    "### Affichez l'accuracy de votre classifieur"
   ]
  },
  {
   "cell_type": "code",
   "execution_count": 75,
   "metadata": {},
   "outputs": [
    {
     "data": {
      "text/plain": [
       "0.839831401475237"
      ]
     },
     "execution_count": 75,
     "metadata": {},
     "output_type": "execute_result"
    }
   ],
   "source": [
    "y_pred = rfc.predict(X_test)\n",
    "r2_score(y_test, y_pred)"
   ]
  },
  {
   "cell_type": "markdown",
   "metadata": {},
   "source": [
    "### Analysez votre classifieur, que voyez vous ? "
   ]
  },
  {
   "cell_type": "markdown",
   "metadata": {},
   "source": [
    "Haute précision (83%) dans la prédiction du test"
   ]
  },
  {
   "cell_type": "markdown",
   "metadata": {},
   "source": [
    "### Affichez les features importantes"
   ]
  },
  {
   "cell_type": "code",
   "execution_count": 76,
   "metadata": {},
   "outputs": [
    {
     "data": {
      "text/plain": [
       "array([0.1005629 , 0.02744589, 0.46567688, 0.40631433])"
      ]
     },
     "execution_count": 76,
     "metadata": {},
     "output_type": "execute_result"
    }
   ],
   "source": [
    "rfc.feature_importances_"
   ]
  },
  {
   "cell_type": "markdown",
   "metadata": {},
   "source": [
    "Les features importantes sont petal_length et petal_width"
   ]
  },
  {
   "cell_type": "markdown",
   "metadata": {},
   "source": [
    "### Affichez graphiquement les features importantes  "
   ]
  },
  {
   "cell_type": "code",
   "execution_count": 77,
   "metadata": {},
   "outputs": [
    {
     "data": {
      "image/png": "[encoded data removed]",
      "text/plain": [
       "<Figure size 640x480 with 1 Axes>"
      ]
     },
     "metadata": {},
     "output_type": "display_data"
    }
   ],
   "source": [
    "fig, ax = plt.subplots()\n",
    "ax.scatter(X[:,2], y)\n",
    "plt.show()"
   ]
  },
  {
   "cell_type": "code",
   "execution_count": 78,
   "metadata": {},
   "outputs": [
    {
     "data": {
      "image/png": "[encoded data removed]",
      "text/plain": [
       "<Figure size 640x480 with 1 Axes>"
      ]
     },
     "metadata": {},
     "output_type": "display_data"
    }
   ],
   "source": [
    "fig, ax = plt.subplots()\n",
    "ax.scatter(X[:,3], y)\n",
    "plt.show()"
   ]
  },
  {
   "cell_type": "code",
   "execution_count": 80,
   "metadata": {},
   "outputs": [
    {
     "data": {
      "image/png": "[encoded data removed]",
      "text/plain": [
       "<Figure size 640x480 with 1 Axes>"
      ]
     },
     "metadata": {},
     "output_type": "display_data"
    }
   ],
   "source": [
    "fig, ax = plt.subplots()\n",
    "ax.scatter(X[:,1], y)\n",
    "plt.show()"
   ]
  },
  {
   "cell_type": "markdown",
   "metadata": {},
   "source": [
    "### Entrainez votre classifieur avec moins de features"
   ]
  },
  {
   "cell_type": "code",
   "execution_count": 79,
   "metadata": {},
   "outputs": [
    {
     "name": "stdout",
     "output_type": "stream",
     "text": [
      "0.7997892518440464\n",
      "[0.29830642 0.18921586 0.51247772]\n"
     ]
    }
   ],
   "source": [
    "# Test en se séparant de la dernière feature\n",
    "X_train2, X_test2, y_train2, y_test2 = train_test_split(X[:,0:3], y, stratify=y, random_state=42)\n",
    "rfc2 = RandomForestClassifier(random_state=0)\n",
    "rfc2.fit(X_train2, y_train2)\n",
    "y_pred2 = rfc2.predict(X_test2)\n",
    "print(r2_score(y_test2, y_pred2))\n",
    "print(rfc2.feature_importances_)"
   ]
  },
  {
   "cell_type": "markdown",
   "metadata": {},
   "source": [
    "### Que constatez vous ? "
   ]
  },
  {
   "cell_type": "markdown",
   "metadata": {},
   "source": [
    "La précision de la prédiction est moins bonne et les 3 autres features ont + d'importances avec ce nouveau classifieur."
   ]
  }
 ],
 "metadata": {
  "kernelspec": {
   "display_name": "Python 3 (ipykernel)",
   "language": "python",
   "name": "python3"
  },
  "language_info": {
   "codemirror_mode": {
    "name": "ipython",
    "version": 3
   },
   "file_extension": ".py",
   "mimetype": "text/x-python",
   "name": "python",
   "nbconvert_exporter": "python",
   "pygments_lexer": "ipython3",
   "version": "3.9.13"
  }
 },
 "nbformat": 4,
 "nbformat_minor": 2
}
