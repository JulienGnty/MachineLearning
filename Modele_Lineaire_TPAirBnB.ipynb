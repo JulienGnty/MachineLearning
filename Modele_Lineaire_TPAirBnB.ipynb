{
 "cells": [
  {
   "cell_type": "markdown",
   "metadata": {
    "colab_type": "text",
    "id": "binPN-FDOmt4"
   },
   "source": [
    "# Modèle linéaire\n",
    "\n",
    "Considérons la cas classique d'une fonction affine :\n",
    "\n",
    "$$y=ax+b$$\n",
    "\n",
    "Ici, $a$ et $b$ sont des réels. Ces deux nombres définissent entièrement la courbe et permet donc d'obtenir une relation **affine** entre $x$ et $y$. En statistique, cette relation est à la base des modèles dit **linéaires**, où une variable réponse se définit comme une somme de variables explicatives où chacune de ces dernières sont multipliés par un coefficient.\n",
    "\n",
    "\n",
    "## Modèle linéaire simple\n",
    "\n",
    "![](https://upload.wikimedia.org/wikipedia/commons/thumb/3/3a/Linear_regression.svg/438px-Linear_regression.svg.png)\n",
    "\n",
    "Dans le modèle linéaire simple (une seule variable explicative), on suppose que la variable réponse suit le modèle suivant :\n",
    "\n",
    "$$y_i=\\beta_0 + \\beta_1 x_i + \\varepsilon_i$$\n",
    "\n",
    "On remarque la ressemblance avec la fonction affine présentée ci-dessus. La différence réside dans l'existence du terme aléatoire (appelé bruit) $\\varepsilon_i$. Afin de considérer le modèle, il est nécessaire de se placer sous les hypothèses suivantes\n",
    "\n",
    "$$(\\mathcal{H}) : \\left\\{\\begin{matrix}\n",
    "\\mathbb{E}[\\varepsilon_i]=0\\\\ \n",
    "\\text{Cov}(\\varepsilon_i, \\varepsilon_j)=\\delta_{ij} \\sigma^2\n",
    "\\end{matrix}\\right.$$\n",
    "Les différents éléments qui interviennent sont :\n",
    "\n",
    "- $\\beta_0$ : l'ordonnée à l'origine (nommée *intercept*)\n",
    "- $\\beta_1$ : le coefficient directeur\n",
    "- $x_i$ : l'observation $i$\n",
    "- $y_i$ : le $i$-ème prix\n",
    "- $\\varepsilon_i$ : le bruit aléatoire liée à la $i$-ème observation\n",
    "\n",
    "La solution peut se calculer facilement via les formules fermées suivantes :\n",
    "\n",
    "$$\\hat{\\beta}_1=\\frac{\\sum_{i=1}^n (x_i - \\bar{x})(y_i - \\bar{y})}{\\sum_{i=1}^n (x_i - \\bar{x})^2} \\qquad \\hat{\\beta}_0 = \\hat{y} - \\hat{\\beta}_1 \\bar{x}$$\n",
    "\n",
    "## Modèle linéaire multiple\n",
    "\n",
    "Dans le cas multiple (pour $p$ variables explicatives), pour la $i$-ème observation, le modèle s'écrit :\n",
    "\n",
    "$$y_i= \\beta_0 + \\sum_{j=1}^p \\beta_j x_{ij} + \\varepsilon_i$$\n",
    "\n",
    "Ainsi, une observation $x_i$ n'est plus une valeur, mais un **vecteur** $(x_{i1}, \\dots, x_{ip})$. Il est plus commode de regrouper ces prix $y_i$ et ces vecteurs d'observations $x_i$ dans des matrices :\n",
    "\n",
    "$$Y=X \\beta + \\varepsilon$$\n",
    "\n",
    "Sous les hypothèses équivalentes du modèle simple en plus grand dimension\n",
    "\n",
    "$$(\\mathcal{H}) : \\left\\{\\begin{matrix}\n",
    "\\text{rank}(X)=p\\\\ \n",
    "\\mathbb{E}[\\varepsilon]=0 \\text{ et }\\text{Var}(\\varepsilon)=\\sigma^2 I_p\n",
    "\\end{matrix}\\right.$$\n",
    "\n",
    "Les différents éléments qui interviennent sont :\n",
    "\n",
    "- $\\beta$ : le vecteur directeur\n",
    "- $X$ : la matrice des observations\n",
    "- $Y$ : le vecteur de prix\n",
    "- $\\varepsilon$ : le vecteur de bruit\n",
    "\n",
    "Avec $X=( \\mathbf{1}, X_1, \\dots, X_n)$, $Y=(y_1, \\dots, y_n)^\\top$ et $\\varepsilon=(\\varepsilon_1, \\dots, \\varepsilon_n)^\\top$. La solution des MCO (Moindres Carrés Ordinaires) est alors :\n",
    "\n",
    "$$\\hat{\\beta}= (X^\\top X)^{-1} X^\\top Y$$\n",
    "\n",
    "Vous pouvez d'ailleurs faire la démonstration de votre coté ! Pour plus d'information mathématiques, le portail de wikipédia qui est très bien fait : [lien ici](https://fr.wikipedia.org/wiki/Portail:Probabilit%C3%A9s_et_statistiques)"
   ]
  },
  {
   "cell_type": "markdown",
   "metadata": {
    "colab_type": "text",
    "id": "dRQO2ydTOmuA"
   },
   "source": [
    "# Implémenter une régression linéaire \n"
   ]
  },
  {
   "cell_type": "code",
   "execution_count": 47,
   "metadata": {
    "colab": {},
    "colab_type": "code",
    "id": "ckyBi2FLOmuE"
   },
   "outputs": [],
   "source": [
    "#importer vos librairies \n",
    "import numpy as np\n",
    "import pandas as pd\n",
    "from sklearn.linear_model import LinearRegression\n",
    "from sklearn.model_selection import train_test_split\n",
    "from sklearn.metrics import mean_squared_error, r2_score"
   ]
  },
  {
   "cell_type": "code",
   "execution_count": 5,
   "metadata": {
    "colab": {},
    "colab_type": "code",
    "id": "B6I-a12SOmud",
    "outputId": "cbe1bdef-5dda-429a-a4f9-81fc4df45794"
   },
   "outputs": [],
   "source": [
    "#charger les données dans le drive : 2 datasets\n",
    "    #price_availability.csv\n",
    "    #listings_final.csv\n",
    "#vérifier si tous les individus ont bien un prix \n",
    "\n",
    "df1 = pd.read_csv(\"source/price_availability.csv\", sep=\";\")\n",
    "df2 = pd.read_csv(\"source/listings.csv\", sep=\";\")\n",
    "df3 = pd.merge(df1, df2, on=\"listing_id\")\n",
    "\n",
    "df = df3.groupby([\"listing_id\"]).mean()"
   ]
  },
  {
   "cell_type": "code",
   "execution_count": 6,
   "metadata": {},
   "outputs": [
    {
     "data": {
      "text/html": [
       "<div>\n",
       "<style scoped>\n",
       "    .dataframe tbody tr th:only-of-type {\n",
       "        vertical-align: middle;\n",
       "    }\n",
       "\n",
       "    .dataframe tbody tr th {\n",
       "        vertical-align: top;\n",
       "    }\n",
       "\n",
       "    .dataframe thead th {\n",
       "        text-align: right;\n",
       "    }\n",
       "</style>\n",
       "<table border=\"1\" class=\"dataframe\">\n",
       "  <thead>\n",
       "    <tr style=\"text-align: right;\">\n",
       "      <th></th>\n",
       "      <th>available</th>\n",
       "      <th>local_price</th>\n",
       "      <th>min_nights</th>\n",
       "      <th>latitude</th>\n",
       "      <th>longitude</th>\n",
       "      <th>person_capacity</th>\n",
       "      <th>host_id</th>\n",
       "      <th>host_name</th>\n",
       "    </tr>\n",
       "    <tr>\n",
       "      <th>listing_id</th>\n",
       "      <th></th>\n",
       "      <th></th>\n",
       "      <th></th>\n",
       "      <th></th>\n",
       "      <th></th>\n",
       "      <th></th>\n",
       "      <th></th>\n",
       "      <th></th>\n",
       "    </tr>\n",
       "  </thead>\n",
       "  <tbody>\n",
       "    <tr>\n",
       "      <th>56093</th>\n",
       "      <td>0.000000</td>\n",
       "      <td>170.000000</td>\n",
       "      <td>4.000000</td>\n",
       "      <td>48.867284</td>\n",
       "      <td>2.358431</td>\n",
       "      <td>4.0</td>\n",
       "      <td>181.0</td>\n",
       "      <td>NaN</td>\n",
       "    </tr>\n",
       "    <tr>\n",
       "      <th>57207</th>\n",
       "      <td>0.482940</td>\n",
       "      <td>49.952756</td>\n",
       "      <td>2.000000</td>\n",
       "      <td>48.846184</td>\n",
       "      <td>2.304455</td>\n",
       "      <td>2.0</td>\n",
       "      <td>2036.0</td>\n",
       "      <td>NaN</td>\n",
       "    </tr>\n",
       "    <tr>\n",
       "      <th>114543</th>\n",
       "      <td>0.140260</td>\n",
       "      <td>107.374026</td>\n",
       "      <td>3.716883</td>\n",
       "      <td>48.849530</td>\n",
       "      <td>2.290219</td>\n",
       "      <td>2.0</td>\n",
       "      <td>2597.0</td>\n",
       "      <td>NaN</td>\n",
       "    </tr>\n",
       "    <tr>\n",
       "      <th>149534</th>\n",
       "      <td>0.554974</td>\n",
       "      <td>169.000000</td>\n",
       "      <td>3.000000</td>\n",
       "      <td>48.866360</td>\n",
       "      <td>2.361844</td>\n",
       "      <td>4.0</td>\n",
       "      <td>5932.0</td>\n",
       "      <td>NaN</td>\n",
       "    </tr>\n",
       "    <tr>\n",
       "      <th>164255</th>\n",
       "      <td>0.100580</td>\n",
       "      <td>75.876209</td>\n",
       "      <td>3.841393</td>\n",
       "      <td>48.861398</td>\n",
       "      <td>2.364299</td>\n",
       "      <td>4.0</td>\n",
       "      <td>7470.0</td>\n",
       "      <td>NaN</td>\n",
       "    </tr>\n",
       "    <tr>\n",
       "      <th>...</th>\n",
       "      <td>...</td>\n",
       "      <td>...</td>\n",
       "      <td>...</td>\n",
       "      <td>...</td>\n",
       "      <td>...</td>\n",
       "      <td>...</td>\n",
       "      <td>...</td>\n",
       "      <td>...</td>\n",
       "    </tr>\n",
       "    <tr>\n",
       "      <th>28684174</th>\n",
       "      <td>0.785156</td>\n",
       "      <td>725.175781</td>\n",
       "      <td>1.046875</td>\n",
       "      <td>48.879223</td>\n",
       "      <td>2.292382</td>\n",
       "      <td>5.0</td>\n",
       "      <td>7731.0</td>\n",
       "      <td>NaN</td>\n",
       "    </tr>\n",
       "    <tr>\n",
       "      <th>28709644</th>\n",
       "      <td>0.954286</td>\n",
       "      <td>475.000000</td>\n",
       "      <td>6.000000</td>\n",
       "      <td>48.872202</td>\n",
       "      <td>2.298349</td>\n",
       "      <td>4.0</td>\n",
       "      <td>3984.0</td>\n",
       "      <td>NaN</td>\n",
       "    </tr>\n",
       "    <tr>\n",
       "      <th>28751412</th>\n",
       "      <td>0.521053</td>\n",
       "      <td>117.000000</td>\n",
       "      <td>1.000000</td>\n",
       "      <td>48.880923</td>\n",
       "      <td>2.314568</td>\n",
       "      <td>2.0</td>\n",
       "      <td>6888.0</td>\n",
       "      <td>NaN</td>\n",
       "    </tr>\n",
       "    <tr>\n",
       "      <th>28774896</th>\n",
       "      <td>0.840506</td>\n",
       "      <td>156.397468</td>\n",
       "      <td>1.000000</td>\n",
       "      <td>48.852915</td>\n",
       "      <td>2.314519</td>\n",
       "      <td>2.0</td>\n",
       "      <td>3869.0</td>\n",
       "      <td>NaN</td>\n",
       "    </tr>\n",
       "    <tr>\n",
       "      <th>28792796</th>\n",
       "      <td>0.639098</td>\n",
       "      <td>49.184211</td>\n",
       "      <td>5.000000</td>\n",
       "      <td>48.870109</td>\n",
       "      <td>2.321475</td>\n",
       "      <td>6.0</td>\n",
       "      <td>3275.0</td>\n",
       "      <td>NaN</td>\n",
       "    </tr>\n",
       "  </tbody>\n",
       "</table>\n",
       "<p>999 rows × 8 columns</p>\n",
       "</div>"
      ],
      "text/plain": [
       "            available  local_price  min_nights   latitude  longitude  \\\n",
       "listing_id                                                             \n",
       "56093        0.000000   170.000000    4.000000  48.867284   2.358431   \n",
       "57207        0.482940    49.952756    2.000000  48.846184   2.304455   \n",
       "114543       0.140260   107.374026    3.716883  48.849530   2.290219   \n",
       "149534       0.554974   169.000000    3.000000  48.866360   2.361844   \n",
       "164255       0.100580    75.876209    3.841393  48.861398   2.364299   \n",
       "...               ...          ...         ...        ...        ...   \n",
       "28684174     0.785156   725.175781    1.046875  48.879223   2.292382   \n",
       "28709644     0.954286   475.000000    6.000000  48.872202   2.298349   \n",
       "28751412     0.521053   117.000000    1.000000  48.880923   2.314568   \n",
       "28774896     0.840506   156.397468    1.000000  48.852915   2.314519   \n",
       "28792796     0.639098    49.184211    5.000000  48.870109   2.321475   \n",
       "\n",
       "            person_capacity  host_id  host_name  \n",
       "listing_id                                       \n",
       "56093                   4.0    181.0        NaN  \n",
       "57207                   2.0   2036.0        NaN  \n",
       "114543                  2.0   2597.0        NaN  \n",
       "149534                  4.0   5932.0        NaN  \n",
       "164255                  4.0   7470.0        NaN  \n",
       "...                     ...      ...        ...  \n",
       "28684174                5.0   7731.0        NaN  \n",
       "28709644                4.0   3984.0        NaN  \n",
       "28751412                2.0   6888.0        NaN  \n",
       "28774896                2.0   3869.0        NaN  \n",
       "28792796                6.0   3275.0        NaN  \n",
       "\n",
       "[999 rows x 8 columns]"
      ]
     },
     "execution_count": 6,
     "metadata": {},
     "output_type": "execute_result"
    }
   ],
   "source": [
    "df"
   ]
  },
  {
   "cell_type": "markdown",
   "metadata": {
    "colab_type": "text",
    "id": "XT3LsnvVOmut"
   },
   "source": [
    "## Données d'entrée"
   ]
  },
  {
   "cell_type": "markdown",
   "metadata": {
    "colab_type": "text",
    "id": "T8DTTFEKOmu0"
   },
   "source": [
    "L'objectif ici est de charger les données pour créer les matrices $X$ et $Y$ du modèle linéaire. **Attention**, il n'est pas nécessaire de rajouter le vecteur colonne $\\mathbf{1}$ en première colonne, car *scikit-learn* le fait automatiquement !"
   ]
  },
  {
   "cell_type": "code",
   "execution_count": 18,
   "metadata": {
    "colab": {},
    "colab_type": "code",
    "id": "tnTd7XKdOmu5"
   },
   "outputs": [],
   "source": [
    "#définir 2 variables de travail\n",
    "#X := les features à utiliser \n",
    "#Y := la target (prix)\n",
    "X = df[[\"min_nights\", \"latitude\", \"longitude\", \"person_capacity\"]]\n",
    "Y = df[\"local_price\"]"
   ]
  },
  {
   "cell_type": "code",
   "execution_count": 21,
   "metadata": {
    "colab": {},
    "colab_type": "code",
    "id": "E_zalIbpOmvI"
   },
   "outputs": [
    {
     "data": {
      "text/plain": [
       "pandas.core.series.Series"
      ]
     },
     "execution_count": 21,
     "metadata": {},
     "output_type": "execute_result"
    }
   ],
   "source": [
    "#construire l'ensemble de donnée prix \n",
    "#\n",
    "#    INDICE \n",
    "# \n",
    "# récupérer les prix des ID dans le dataset de prix \n",
    "# 🚧 il y a plusieurs prix dans le dataset 🚧\n",
    "type(Y)"
   ]
  },
  {
   "cell_type": "markdown",
   "metadata": {
    "colab_type": "text",
    "id": "z1ckoHuzOmvW"
   },
   "source": [
    "En *Machine Learning*, on a l'habitude de couper l'ensemble de données en deux sous-ensembles :\n",
    "\n",
    "- Un ensemble d'entraînement (*train set*), sur lequel le modèle va être calibré.\n",
    "- Un ensemble de test (*test set*), qui ne sera pas utilisé pendant le calibrage mais permettra de vérifier l'aptitude du modèle à généraliser sur de nouvelles observations inconnues.\n",
    "\n",
    "En général, on découpe l'ensemble de données (*split*) en prenant $\\alpha \\%$ de l'ensemble pour entraînement et $1-\\alpha \\%$ comme test. Dans la plus part des cas, on considère que $\\alpha=10,20 ou 30\\%$."
   ]
  },
  {
   "cell_type": "code",
   "execution_count": 22,
   "metadata": {
    "colab": {},
    "colab_type": "code",
    "id": "G-x-APn4OmvX",
    "outputId": "ff55319f-f6d2-477c-811e-f1eb2d5ef7b8"
   },
   "outputs": [
    {
     "data": {
      "text/plain": [
       "(            min_nights   latitude  longitude  person_capacity\n",
       " listing_id                                                   \n",
       " 23348731      1.000000  48.866821   2.327321              4.0\n",
       " 20926157      1.643229  48.877098   2.333285              2.0\n",
       " 13489341      5.000000  48.871622   2.348486              6.0\n",
       " 24515032      2.000000  48.872368   2.412700              2.0\n",
       " 20011166      2.000000  48.845345   2.391093              2.0\n",
       " ...                ...        ...        ...              ...\n",
       " 1410564      89.000000  48.856731   2.321385              1.0\n",
       " 7039564       1.986408  48.873040   2.317534              6.0\n",
       " 26271706      3.000000  48.862670   2.353887              4.0\n",
       " 14956561      1.000000  48.864796   2.347249              5.0\n",
       " 1398893       4.000000  48.873308   2.380389              2.0\n",
       " \n",
       " [699 rows x 4 columns],\n",
       "             min_nights   latitude  longitude  person_capacity\n",
       " listing_id                                                   \n",
       " 15645282      2.000000  48.870670   2.373548              1.0\n",
       " 24766158      4.000000  48.865828   2.348778              9.0\n",
       " 4422043       2.000000  48.873171   2.328154              2.0\n",
       " 9468773       3.000000  48.851339   2.350175              5.0\n",
       " 23559630      2.984000  48.872147   2.301245              2.0\n",
       " ...                ...        ...        ...              ...\n",
       " 9675109      91.000000  48.858580   2.358916              6.0\n",
       " 13949615     91.000000  48.861346   2.362422              2.0\n",
       " 183599        3.000000  48.874601   2.313284              3.0\n",
       " 2719440       2.287599  48.848023   2.318382              2.0\n",
       " 25120614      2.294430  48.855163   2.341204              2.0\n",
       " \n",
       " [300 rows x 4 columns],\n",
       " listing_id\n",
       " 23348731    298.366755\n",
       " 20926157    109.421875\n",
       " 13489341    330.000000\n",
       " 24515032     40.067010\n",
       " 20011166     70.434109\n",
       "                ...    \n",
       " 1410564      40.234987\n",
       " 7039564     382.621359\n",
       " 26271706    115.000000\n",
       " 14956561    104.789474\n",
       " 1398893      92.281330\n",
       " Name: local_price, Length: 699, dtype: float64,\n",
       " listing_id\n",
       " 15645282      43.143689\n",
       " 24766158    1300.000000\n",
       " 4422043       57.886538\n",
       " 9468773      297.763158\n",
       " 23559630      55.349333\n",
       "                ...     \n",
       " 9675109      195.000000\n",
       " 13949615     109.000000\n",
       " 183599       300.000000\n",
       " 2719440       68.163588\n",
       " 25120614      73.782493\n",
       " Name: local_price, Length: 300, dtype: float64)"
      ]
     },
     "execution_count": 22,
     "metadata": {},
     "output_type": "execute_result"
    }
   ],
   "source": [
    "#utiliser la méthode split de sklearn en splitant avec un alpha=30 et un random state=42 \n",
    "#zafficher la shape de vos données \n",
    "#help(train_test_split)\n",
    "X_train, X_test, y_train, y_test = train_test_split(X, Y, test_size=0.3, random_state=42)\n",
    "X_train, X_test, y_train, y_test"
   ]
  },
  {
   "cell_type": "markdown",
   "metadata": {
    "colab_type": "text",
    "id": "szd_JPzXOmvq"
   },
   "source": [
    "## Entraînement"
   ]
  },
  {
   "cell_type": "markdown",
   "metadata": {
    "colab_type": "text",
    "id": "1e4cfWxoOmvr"
   },
   "source": [
    "Pour information, *scikit-learn* utilise le solveur OLS (Ordinary Least Squares) de *numpy*."
   ]
  },
  {
   "cell_type": "code",
   "execution_count": 23,
   "metadata": {
    "colab": {},
    "colab_type": "code",
    "id": "TrS4fboZOmvu",
    "outputId": "9a26f504-379b-45b3-b498-8b37befc4e30"
   },
   "outputs": [
    {
     "data": {
      "text/plain": [
       "LinearRegression()"
      ]
     },
     "execution_count": 23,
     "metadata": {},
     "output_type": "execute_result"
    }
   ],
   "source": [
    "#créer l'objet de régression et entrainer le sur notre ensemble d'entraînement\n",
    "lin = LinearRegression()\n",
    "lin.fit(X_train, y_train)"
   ]
  },
  {
   "cell_type": "code",
   "execution_count": 28,
   "metadata": {},
   "outputs": [
    {
     "data": {
      "text/plain": [
       "['__abstractmethods__',\n",
       " '__class__',\n",
       " '__delattr__',\n",
       " '__dict__',\n",
       " '__dir__',\n",
       " '__doc__',\n",
       " '__eq__',\n",
       " '__format__',\n",
       " '__ge__',\n",
       " '__getattribute__',\n",
       " '__getstate__',\n",
       " '__gt__',\n",
       " '__hash__',\n",
       " '__init__',\n",
       " '__init_subclass__',\n",
       " '__le__',\n",
       " '__lt__',\n",
       " '__module__',\n",
       " '__ne__',\n",
       " '__new__',\n",
       " '__reduce__',\n",
       " '__reduce_ex__',\n",
       " '__repr__',\n",
       " '__setattr__',\n",
       " '__setstate__',\n",
       " '__sizeof__',\n",
       " '__str__',\n",
       " '__subclasshook__',\n",
       " '__weakref__',\n",
       " '_abc_impl',\n",
       " '_check_feature_names',\n",
       " '_check_n_features',\n",
       " '_decision_function',\n",
       " '_estimator_type',\n",
       " '_get_param_names',\n",
       " '_get_tags',\n",
       " '_more_tags',\n",
       " '_preprocess_data',\n",
       " '_repr_html_',\n",
       " '_repr_html_inner',\n",
       " '_repr_mimebundle_',\n",
       " '_residues',\n",
       " '_set_intercept',\n",
       " '_validate_data',\n",
       " 'coef_',\n",
       " 'copy_X',\n",
       " 'feature_names_in_',\n",
       " 'fit',\n",
       " 'fit_intercept',\n",
       " 'get_params',\n",
       " 'intercept_',\n",
       " 'n_features_in_',\n",
       " 'n_jobs',\n",
       " 'normalize',\n",
       " 'positive',\n",
       " 'predict',\n",
       " 'rank_',\n",
       " 'score',\n",
       " 'set_params',\n",
       " 'singular_']"
      ]
     },
     "execution_count": 28,
     "metadata": {},
     "output_type": "execute_result"
    }
   ],
   "source": [
    "dir(lin)"
   ]
  },
  {
   "cell_type": "markdown",
   "metadata": {
    "colab_type": "text",
    "id": "40mJxNwhOmv5"
   },
   "source": [
    "On affiche le vecteur des coefficients pour interpréter rapidement le modèle."
   ]
  },
  {
   "cell_type": "code",
   "execution_count": 42,
   "metadata": {
    "colab": {},
    "colab_type": "code",
    "id": "uUjLZYBEOmv7",
    "outputId": "3ac3800a-e028-46d6-e367-f64e1232d3bc"
   },
   "outputs": [
    {
     "name": "stdout",
     "output_type": "stream",
     "text": [
      "[-1.56368872e-01 -9.78038222e+02 -1.06237948e+03  4.54561575e+01]\n",
      "50302.958948690815\n"
     ]
    }
   ],
   "source": [
    "#afficher les coefficients\n",
    "#que remarquez vous ? \n",
    "print(lin.coef_)\n",
    "print(lin.intercept_)"
   ]
  },
  {
   "cell_type": "code",
   "execution_count": 45,
   "metadata": {},
   "outputs": [],
   "source": [
    "# TODO: Commenter"
   ]
  },
  {
   "cell_type": "markdown",
   "metadata": {
    "colab_type": "text",
    "id": "nt4z_sh4OmwI"
   },
   "source": [
    "## Validation du modèle\n",
    "\n",
    "### Le coefficient de détermination $R^2$\n",
    "\n",
    "Par la suite, nous ferons l'hypothèse de gaussianité sur les bruits. Dans l'idée, nous aimerions obtenir une valeur numérique qui nous indique à quel point la régression linéaire a un sens sur nos données. Pour cela, introduisons les notations suivantes :\n",
    "\n",
    "- $SCT=\\|Y-\\hat{y} \\mathbf{1}\\|^2$ est la somme des carrés totaux\n",
    "- $SCE=\\|\\hat{Y}-\\hat{y} \\mathbf{1}\\|^2$ est la somme des carrés expliqués\n",
    "- $SCR=\\|\\hat{\\varepsilon}\\|^2$ est la somme des carrés résiduels\n",
    "\n",
    "L'idée est de décomposer la somme des carrés totaux comme la somme des carrés que le modèle explique, en plus de la somme des carrés qui sont liés aux résidus (et donc que le modèle ne peut pas expliquer). On voit donc ici l'intérêt de calculer un coefficient à partir du $SCE$. Puisque l'on a la relation suivante :\n",
    "\n",
    "$$SCT=SCE+SCR \\text{ alors } 1=\\frac{SCE}{SCT}+\\frac{SCR}{SCT}$$\n",
    "\n",
    "Plus les résidus sont petits (et donc la régression est \"bonne\"), plus $SCR$ devient petit et donc $SCE$ devient grand. Le schéma inverse s'opère de la même façon. Dans le meilleur des cas, on obtient $SCR=0$ et donc $SCE=SCT$ d'où le premier membre vaut $1$. Dans le cas contraite, $SCE=0$ et automatiquement, le premier membre est nul. C'est ainsi que l'on définit le coefficient de détermination $R^2$ comme \n",
    "$$R^2=\\frac{SCE}{SCT}=1-\\frac{SCR}{SCT}$$\n",
    "Ainsi, $R^2 \\in [0,1]$. Plus $R^2$ est proche de $1$, plus la régression linéaire a du sens. Au contraire, si $R^2$ est proche de $0$, le modèle linéaire possède un faible pouvoir explicatif."
   ]
  },
  {
   "cell_type": "code",
   "execution_count": 44,
   "metadata": {
    "colab": {},
    "colab_type": "code",
    "id": "uf8_Sw5yOmwJ",
    "outputId": "5035a388-7cdb-4346-f833-d47fdabf2bc0"
   },
   "outputs": [
    {
     "data": {
      "text/plain": [
       "array([184.5374899 , 171.91859142, 183.5011108 , 181.97185749,\n",
       "       184.08552874, 215.98708821,  43.88045663, 180.04513317,\n",
       "       106.60607033,  86.87802765, 126.90008385,  12.00854304,\n",
       "       193.87231889, 245.66305703,  51.68466129,  93.86217293,\n",
       "        92.84311485, 153.37427284, 324.8376245 , 193.33166376,\n",
       "       155.31688915, 124.0278899 , 172.37171004, 123.59215277,\n",
       "       195.85865495, 104.20777682, 295.8603629 , 141.29060288,\n",
       "       136.2835351 , 146.61565622, 239.29700761, 254.58552185,\n",
       "       238.5483128 , 109.12961567,  46.31786315, 217.6040067 ,\n",
       "        81.47917552, 125.7495184 , 122.57853583, 247.2865653 ,\n",
       "       262.45746689,  89.39577529, 160.59788501,  76.62153921,\n",
       "       143.69059319, 118.55397704, 273.47718724, 354.74735229,\n",
       "        98.77769753, 167.46266803, 141.60324054, 161.48595161,\n",
       "       210.48850882, 267.4594737 , 287.73264201, 174.98418025,\n",
       "       117.56234958, 109.71568679, 101.75431503, 379.6415536 ,\n",
       "       378.81593902, 175.64684092, 257.11999717, 175.30032914,\n",
       "        47.05255999, 138.61569411,  93.47797752, 240.50095491,\n",
       "       241.36403908, 231.41232614, 281.00317069, 160.97450475,\n",
       "       405.52979481, 323.33174587, 298.18587144,  93.07269209,\n",
       "       126.27273226,  90.5227372 , 169.14955767, 104.36768774,\n",
       "       275.98205956, 370.34099352, 243.92788929, 126.67945253,\n",
       "       264.34294403, 244.97900487,  51.06832472,  29.17350319,\n",
       "       180.03176168, 259.1518603 , 345.38028087, 277.55439974,\n",
       "       310.07696252, 100.89018893,  82.83820547, 136.29190964,\n",
       "       148.27711552, 272.79508587,  76.71763809,  63.15778506,\n",
       "       203.32143287, 180.67094225,  64.40631713, 235.54958956,\n",
       "        71.87870412, 219.28396846,  84.55565979, 444.21473184,\n",
       "       134.77602678, 195.52326565, 210.82493105,  30.31198438,\n",
       "       136.9690615 , 169.3386734 , 378.42060678,  70.8470132 ,\n",
       "       200.62691504, 245.0661501 , 175.56303785, 192.71877326,\n",
       "       107.48649634, 248.10340962,  83.90174179,  50.06345973,\n",
       "       346.20550733, 140.29328578, 109.00501151, 200.03905609,\n",
       "       268.37269099, 161.18234575, 215.30497064, 153.67110386,\n",
       "       225.55717699, 185.50846336, 127.58672544, 162.42972486,\n",
       "        79.52418346, 122.12733804,  71.10538033, 192.6553346 ,\n",
       "       185.11407737, 121.17547824, 121.24844569, 147.33940276,\n",
       "       269.28381029, 109.64503731, 270.10046474, 215.52179433,\n",
       "       157.60877552, 162.75437161,  64.04120677, 227.38051582,\n",
       "       257.62056286, 317.87174551, 149.26661764, 155.2783136 ,\n",
       "       155.06103389, 367.58463381,  78.49670304, 102.71752271,\n",
       "        92.98966749,  54.69782783, 365.59879796, 188.79490768,\n",
       "       347.90184746,  69.00206326, 257.04526066, 195.79483025,\n",
       "       198.37587681, 414.11651688, 169.07747421,  87.46232477,\n",
       "        68.25676355,  60.57686038, 195.92178844, 286.91050613,\n",
       "       106.06333215, 272.65010906, 171.54417514, 258.91449365,\n",
       "       274.89256116, 179.43753081, 127.89581584, 186.91463349,\n",
       "       238.73860162, 556.0903517 , 184.50814771, 310.67021174,\n",
       "        31.93340298,  45.32704247, 317.65495018, 199.14680458,\n",
       "        99.5530033 , 308.63826442, 354.17689034, 290.06993105,\n",
       "       103.01748005, 199.37783809, 222.32201886, 106.6820408 ,\n",
       "        79.69936966, 179.42186237, 142.5790664 ,  50.71094287,\n",
       "       264.24420574, 201.45643812, 277.46763023, 183.73290808,\n",
       "       224.3883134 , 120.34533036, 177.03337836, 100.42677663,\n",
       "       110.14921368, 132.53331955, 106.9202485 , 459.91330756,\n",
       "       153.0103074 , 252.19674858, 537.50500021, 335.63129841,\n",
       "       281.57503161,  89.36538985, 133.06622887,  97.0892059 ,\n",
       "       179.41311401,  87.75514386, 191.5624749 , 308.93276492,\n",
       "       126.61181828, 305.77190516, 341.4974129 , 180.17762532,\n",
       "       190.43194686,  95.87308951,  49.35909246, 232.02029836,\n",
       "       182.4498891 , 263.37426826, 347.0698732 , 181.68267638,\n",
       "       293.65886898, 219.51145175,  57.0999985 , 335.73669679,\n",
       "       184.47437134,  95.50772013, 227.94102211, 435.60371675,\n",
       "       295.89368851, 106.22806643, 240.8790934 ,  64.42333235,\n",
       "       141.19613517, 192.77550586, 150.5150307 , 144.19163979,\n",
       "       169.5076602 , 263.2431696 , 346.48013547,  84.82977775,\n",
       "       311.93074996, 260.77090395, 183.4195181 ,  86.13582614,\n",
       "        63.46107306, 323.42486462, 174.80067432, 239.85313483,\n",
       "       125.34197708,  85.36410601, 313.58362158, 174.75189038,\n",
       "        32.21420171, 115.99929773, 115.82864308, 227.6973547 ,\n",
       "       130.2091071 , 363.45727546, 191.32498262, 233.7255365 ,\n",
       "       170.20955997, 227.75239964, 201.47552991, 148.92934461,\n",
       "       288.06551948, 198.89518471, 105.96895304, 144.77649193,\n",
       "       187.95452658, 107.53172453, 132.21045367, 168.64741534,\n",
       "       299.08503745,  84.97810109, 375.02036001, 260.08202391,\n",
       "       251.83686307, 260.67008538, 186.05197425, 257.22568625,\n",
       "       200.54815667,  36.04318895, 357.55815092, 284.30837514,\n",
       "       139.44591223,  82.94099057, 138.58915081, 237.75007657,\n",
       "       621.57258132, 254.51579596, 288.01935068, 128.20558079,\n",
       "       174.05281334, 271.27321326, 269.84329211, 140.23474939,\n",
       "       128.16991429, 119.15834985, 146.93546472, 350.59535675,\n",
       "        98.18387838, 205.5823765 ,  58.07277837, 319.46761753,\n",
       "        78.41759547, 103.80071108,  94.23967971, 330.25378524,\n",
       "        47.67537582, 169.32189951,  90.78297769, 113.02745927,\n",
       "       259.5076916 , 485.95243144, 281.31340533, 115.34940735,\n",
       "       213.98276859, 148.35653644, 157.69444809, 390.25302234,\n",
       "        99.69472874, 232.50201347, 296.81481261, 168.39636887,\n",
       "        58.21960476, 290.20433822, 187.57499096, 239.53541079,\n",
       "        47.19400448, 106.90083795, 171.48867473, 326.71934646,\n",
       "       368.4706493 ,  85.56221699, 346.83624506,  76.66810607,\n",
       "       162.97163224, 276.20791153,  76.94640438, 101.47012965,\n",
       "       119.71184044, 145.80793297, 463.91470206,  44.90849981,\n",
       "       360.29143333, 296.16591959,  84.30844406,  58.24938266,\n",
       "       204.608961  ,  55.55393302, 109.31822745, 246.95782754,\n",
       "       207.37276652, 336.91675399,  97.75876801, 101.97168981,\n",
       "        -8.91053168, 110.14093993, 175.33300826, 213.20878734,\n",
       "        74.5572873 , 180.27793847, 216.21384507, 336.90850811,\n",
       "        97.73915661, 169.36130411, 168.30178145, 134.29049337,\n",
       "        68.2614565 , 269.56718234, 177.2855732 , 189.16499201,\n",
       "       320.74614264, 242.90743812, 281.61658147, 301.2741179 ,\n",
       "       137.42224181,  70.98160038,  74.09178747, 202.31165012,\n",
       "       190.78445798, 231.22154399, 308.23697139, 153.63763979,\n",
       "        81.58908568, 179.64285508, 100.56124429, 176.11759118,\n",
       "        74.06639528, 257.52411614, 131.89742887,  92.90569496,\n",
       "       141.03261861,  71.99757593, 109.65694397, 297.28641611,\n",
       "       168.82490464, 159.15026928,  93.73092632, 184.68535365,\n",
       "       141.69830179,  60.4438241 , 771.86142853,  81.13941752,\n",
       "        58.75975797, 287.39538517, 165.98617498, 178.50797458,\n",
       "        11.83189553, 170.86416338, 232.55583257, 274.97672338,\n",
       "       213.10964483, 248.67552431, 174.50963861, 244.77598208,\n",
       "        86.36127811, 194.37965865, 198.05754967,  88.50516729,\n",
       "       150.38036459, 238.60981639, 159.7487162 , 170.54656364,\n",
       "       163.55987714, 309.85345637,  88.06103637,  52.11275292,\n",
       "       239.40924825, 209.70443943,  95.67456935,  71.70412065,\n",
       "       754.76256528,  29.11036987,  69.7693949 , 302.88358013,\n",
       "       681.85165207, 355.21429072, 351.69062116, 192.06052152,\n",
       "       185.93103115, 132.45621626,  89.69335335,  98.40821445,\n",
       "        76.31790626,  96.6100334 , 197.04580009,  73.38144099,\n",
       "       189.86270472, 151.50280171, 310.61342227, 223.30407765,\n",
       "       199.11694195, 187.9662756 , 181.53092179, 135.85704319,\n",
       "       122.51175428, 273.25250491, 151.82207126, 101.0018283 ,\n",
       "        64.34833985, 226.34427109,  96.52204259, 172.02325042,\n",
       "       177.42839839, 180.08215983, 317.22634967,  47.47052632,\n",
       "        64.97123606, 304.17781451, 112.79645246,  79.83978436,\n",
       "       133.40713134,  68.46545518, 135.86854403, 274.50730747,\n",
       "       419.14759726, 126.37496949, 166.99034675,  84.26218073,\n",
       "        83.23085012,  82.54745146, 194.55824212,  94.57024909,\n",
       "       311.37527   , 222.37454955, 268.52498303, 138.51496699,\n",
       "       351.21677113, 282.461655  , 175.84076209, 224.07499884,\n",
       "        52.35234402, 115.45608321,   3.80814534, 262.15307548,\n",
       "        47.90653927, 138.80049219,  79.09582715, 168.99415862,\n",
       "        74.23720955, 118.5089703 , 225.81103523, 711.40441188,\n",
       "        67.96153139, 297.87929662, 196.24972631,  80.74933226,\n",
       "       256.81051203, 138.2692622 , 186.13791206, 121.63773449,\n",
       "        73.62582955, 185.60715276, 169.16865699, 263.58455796,\n",
       "       304.3238511 , 243.60614727, 249.78201537,  67.18331977,\n",
       "        86.31664959, 603.38117551, 273.26158242,  49.84154933,\n",
       "       148.355188  ,  23.56150194,  23.99308907, 256.56960969,\n",
       "       122.20318685, 344.38090672, 336.03400869,  81.41894929,\n",
       "       483.96987606, 385.41439237, 269.68287739, 244.53627912,\n",
       "       296.72936779,  63.10501469, 314.04939416, 148.35534103,\n",
       "       124.97829232, 282.88328349, 155.8929362 , 263.59379891,\n",
       "       184.34203329,  47.66887509, 202.68049172, 104.83887677,\n",
       "       455.34270325,  93.38029865, 153.66403741, 278.843019  ,\n",
       "       233.58227867, 197.89943786,  48.74078075,  43.58515045,\n",
       "        53.00345088,   5.66592153, 315.63564542, 187.58440464,\n",
       "       208.64847446, 245.99580044, 321.87459277, 198.62052129,\n",
       "       107.18690764, 162.36016098, 235.71631001, 173.40491351,\n",
       "        92.24049244, 165.96485334, 262.94967271,  41.57086206,\n",
       "       219.92214324, 106.70142086, 169.34028882, 149.31401816,\n",
       "       367.11009602,  88.77284695,  80.69581065, 203.89588773,\n",
       "       277.40580899, 168.2909204 , 188.34886889, 181.0000811 ,\n",
       "       377.76808551, 201.78790768,  71.16671557,  90.0863652 ,\n",
       "       241.56524633, 276.75770429, 253.74114124, 126.10825297,\n",
       "       211.87376718, 127.75306498, 102.93543018, 373.88708945,\n",
       "       239.58800624, 163.4535849 , 217.05667494, 326.7486722 ,\n",
       "       137.24635604, 258.24951556,  64.20404334, 112.24650851,\n",
       "        30.60299601, 187.97430969, 327.77722447, 132.62928611,\n",
       "       288.6911401 ,  64.10017008, 111.11064449, 202.57229659,\n",
       "       160.5457234 ,  96.12685978, 189.94936367, 125.62035188,\n",
       "       117.34480072, 178.75795537, 236.19094815, 183.29476929,\n",
       "       157.00671219, 134.8977474 , 133.79263271, 231.41082957,\n",
       "       134.12558726, 106.67242549,  93.1766868 ,  79.08230552,\n",
       "       214.59020039, 262.02801517, 244.56306388, 209.24968392,\n",
       "       296.7898445 ,  85.0079903 , 113.4553428 , 425.66692984,\n",
       "        99.08312034, 189.89940863, 176.61586017, 122.06552299,\n",
       "       107.96363334, 130.64168037, 286.95262929,  96.37973422,\n",
       "       193.36107793, 133.31308603, 251.65689019,  73.74544712,\n",
       "       145.83480759, 119.07792482, 269.19983762, 218.99137968,\n",
       "       453.86378038, 118.26933048, 236.99485257, 112.81281031,\n",
       "       190.0080398 ,  99.11381321, 275.14932123, 258.48068619,\n",
       "        64.47690565, 276.52840861, 239.02574053, 232.81243462,\n",
       "       142.06458877, 214.50911176, 227.18049023, 183.32336202,\n",
       "       164.50402055,  63.31596328, 360.71160679, 164.83590336,\n",
       "       186.55892398,  69.38688488, 253.13278171, 113.39626308,\n",
       "       222.87997226,  41.88616072, 211.07496078, 129.54461593,\n",
       "        80.91871045, 388.97448567, 189.29441962, 477.5333006 ,\n",
       "       190.00860293, 620.20487212, 177.5187745 , 324.3264312 ,\n",
       "       215.08400792, 327.94677884, 118.59870412,  59.43148256,\n",
       "       480.00464187,  63.23195067, 109.0023248 , 150.9676184 ,\n",
       "       243.41487704, 187.85349344,  87.84643091, 180.79614349,\n",
       "       111.85309274, 212.55590332, 159.7198042 , 239.74126935,\n",
       "       213.30955211, 205.3216096 , 111.87472703, 732.71653515,\n",
       "       218.51017367, 402.71535259, 147.33100988, 134.40224931,\n",
       "       202.55121341, 120.77718694, 161.1970708 , 103.88170914,\n",
       "       327.94178275, 112.52161464,  99.95473998, 278.90552371,\n",
       "       149.78142046, 104.18541639, 175.67561576, 209.94748009,\n",
       "       184.95764242, 318.03948488, 155.27376888, 451.56505579,\n",
       "        98.88935574, 211.97642846, 192.38394365, 177.92881172,\n",
       "        57.60518815, 143.78121364, 138.06294449, 182.23341974,\n",
       "       252.25759927, 158.80340815, 372.11617025,  98.07125729,\n",
       "       386.45744849, 308.10726078, 134.8183195 ,  60.01721384,\n",
       "        96.84957953,  95.44606362,  77.6425722 ,  76.93374999,\n",
       "        49.55538034, 191.89585586, 222.61839305,  42.62073208,\n",
       "        73.23220502, 275.53367457, 141.07474857, 243.1289541 ,\n",
       "       334.35755553,  31.31177629, 332.01316871,  51.96089483,\n",
       "       196.38803011, 315.28471672, 635.66431285, 111.14593891,\n",
       "       104.99763834, 234.3748495 , 232.359529  , 216.42417458,\n",
       "       131.72085826, 131.72136648, 177.17726091, 410.54614112,\n",
       "       177.81395167, 423.49802638, 101.97616039, 187.99848586,\n",
       "       479.78041112, 155.0514721 , 153.49870398,  50.81704167,\n",
       "       303.43740867, 106.01966161, 241.78006994, 196.99625135,\n",
       "       356.20642828,  62.46712338, 197.63097056,  70.41907219,\n",
       "       292.45120618, 124.04866192, 189.32088436, 201.95705406,\n",
       "        96.30578628, 175.18857471, 117.94099459, 104.34378661,\n",
       "        77.37562093, 102.8674162 , 106.97652211,  46.86290441,\n",
       "       202.43781668, 112.22319714, 106.69569428, 108.44417292,\n",
       "       174.77359446, 252.28584088, 139.36608703, 246.12975012,\n",
       "       100.76102238, 160.1501986 , 288.53803696,  99.56225231,\n",
       "       195.29361727, 176.55011587, 110.53991221, 231.42735683,\n",
       "       331.80793385, 210.00146586, 329.45957939, 100.4400566 ,\n",
       "       132.86653073, 128.07261686,  61.42891798,  96.14037436,\n",
       "        78.28252326, 181.66707771, 113.81388618, 109.78843784,\n",
       "        21.26554695, 209.43886149, 120.29130404, 283.86737647,\n",
       "       138.6906742 , 363.85057123, 151.73576039,  89.50180869,\n",
       "       134.23043766,  89.84491152, 181.06731939, 107.67224996,\n",
       "       194.0342029 , 361.51346489, 260.27417486,  98.59347642,\n",
       "       154.60493755, 593.9823882 , 297.54517393, 346.24281064,\n",
       "       104.91192718, 257.20546801, 138.96306461, 104.7569296 ,\n",
       "       282.70715342,  29.65602822,  38.52966828, 162.53208362,\n",
       "       106.03553687,  97.39630668, 188.80068676, 168.7981386 ,\n",
       "       430.05244682, 195.10441123, 207.3618553 , 285.42170775,\n",
       "       103.40407873, 170.18235912, 103.99573687,  89.35701171,\n",
       "       197.95910908, 194.16704968, 391.59473086, 195.78908717,\n",
       "        89.78363819, 245.18293941, 377.41561391, 101.1827807 ,\n",
       "        65.26405553, 239.06104306, 520.64670809, 174.32092854,\n",
       "       103.60647438, 128.08168765, 188.74314643, 110.81890994,\n",
       "        93.71480762, 371.88737016, 253.93548434, 229.95772515,\n",
       "        80.47748565, 166.64979437, 254.17660623,  91.08125959,\n",
       "        54.14683599, 106.77253195, 185.69610624, 194.99303895,\n",
       "       128.3795424 , 233.10656212,  88.53990794,  47.3770434 ,\n",
       "       178.13917992, 163.29429794, 106.17781996,  68.11821524,\n",
       "       194.903371  ,  94.78628221,  74.31611864, 267.40853837,\n",
       "       169.35935326,  54.03819785,  90.42988272, 102.23436551,\n",
       "       260.08618966, 124.26511112, 214.75225651, 183.31680546,\n",
       "        51.63209079, 185.61137349, 132.36725173, 262.13056014,\n",
       "       105.54289648,  53.0446556 , 190.20182025, 186.25069702,\n",
       "       451.8277287 , 232.12343351, 130.04346632, 158.70787961,\n",
       "       148.87524427,  85.33503696, 311.85385683, 154.50569537,\n",
       "        75.44231305, 234.50635677, 171.59358774, 209.01147442,\n",
       "       205.50662454,  76.02354768, 104.84204103, 173.347008  ,\n",
       "       124.2095487 , 163.93468667, 197.47270592, 114.89115853,\n",
       "        51.65216015, 285.5513386 , 255.08304454, 352.49669692,\n",
       "       116.41421304,  75.71069611, 150.13963103, 206.29020368,\n",
       "       155.60410629, 134.3712098 ,  95.43100789, 201.55203543,\n",
       "        91.31272505, 106.82897703, 109.2998249 , 110.08191123,\n",
       "       146.72499333, 200.43727959, 120.74438776, 198.99792608,\n",
       "       201.68778444, 329.89888475,  57.40032225, 133.62560407,\n",
       "       135.60216404, 128.54541636, 191.62246179, 400.37598176,\n",
       "        47.02688568, 270.30589479, 288.94835101, 243.24424514,\n",
       "       127.35400169, 154.79946691, 311.79252203])"
      ]
     },
     "execution_count": 44,
     "metadata": {},
     "output_type": "execute_result"
    }
   ],
   "source": [
    "#faire une prediction sur X\n",
    "Y_pred = lin.predict(X)\n",
    "Y_pred"
   ]
  },
  {
   "cell_type": "code",
   "execution_count": 51,
   "metadata": {
    "colab": {},
    "colab_type": "code",
    "id": "AEQrrOb6OmwV",
    "outputId": "f5e692a4-e10f-4a15-d37a-a12edfc7aaaf"
   },
   "outputs": [
    {
     "name": "stdout",
     "output_type": "stream",
     "text": [
      "22082.159314942655 0.3501178844558006\n"
     ]
    }
   ],
   "source": [
    "#afficher l'erreur des moindres carrées sur l'ensemble d'entrainement ainsi que le R2\n",
    "\n",
    "Mean_squared_error = mean_squared_error(Y, Y_pred)\n",
    "R2 = r2_score(Y, Y_pred)\n",
    "print(Mean_squared_error, R2)\n",
    "\n",
    "# Faible score R2, la régression possède un faible pouvoir explicatif"
   ]
  },
  {
   "cell_type": "markdown",
   "metadata": {
    "colab_type": "text",
    "id": "3C3r6tz9Omwd"
   },
   "source": [
    "## Bonus : Analyse de l'homoscédasticité\n",
    "\n",
    "L'analyse de l'homoscédasticité est primordiale : c'est en particulier elle qui nous permet de vérifier, à partir des résidus, si les bruits vérifient bien l'hypothèse $(\\mathcal{H})$. On calcule donc les **résidus studentisés**.\n",
    "\n",
    "$$t_i^*=\\frac{\\hat{\\varepsilon}_i}{\\hat{\\sigma}_{(i)} \\sqrt{1-h_{ii}}}$$\n",
    "Avec $h_{ii}=\\{X(X^\\top X)^{-1} X^\\top\\}_{ii}=H_{ii}$ la matrice de projection sur l'hyperplan des variables. Plus précisément, $H$ est la matrice qui projette $Y$ sur l'espace engendré par les variables, soit $\\hat{Y}=HY$. De même, on considère $\\hat{\\sigma}_{(i)}$ l'estimateur de la variance du bruit en supprimant l'observation $i$ (par une méthode de validation croisée Leave-One-Out que nous ne détaillerons pas ici).\n",
    "\n",
    "Dans ce cas, on peut montrer que les résidus studentisés suivent une loi de Student à $n-p-1$ degrés de liberté."
   ]
  },
  {
   "cell_type": "code",
   "execution_count": null,
   "metadata": {
    "colab": {},
    "colab_type": "code",
    "id": "QC71Z7HhOmwf",
    "outputId": "ab8657d8-81d0-4c77-871a-d232178a2537"
   },
   "outputs": [
    {
     "data": {
      "text/plain": [
       "<matplotlib.legend.Legend at 0x114832208>"
      ]
     },
     "execution_count": 10,
     "metadata": {
      "tags": []
     },
     "output_type": "execute_result"
    },
    {
     "data": {
      "image/png": "[encoded data removed]",
      "text/plain": [
       "<Figure size 1440x864 with 1 Axes>"
      ]
     },
     "metadata": {
      "needs_background": "light",
      "tags": []
     },
     "output_type": "display_data"
    }
   ],
   "source": [
    "#analyser le code ci-dessous \n",
    "import scipy\n",
    "Y_pred = regr.predict(X_train)\n",
    "n = X_train.shape[0]\n",
    "p = 4\n",
    "residuals = np.abs(y_train - Y_pred)\n",
    "H = np.matmul(X_train, np.linalg.solve(np.dot(X_train.T, X_train), X_train.T))\n",
    "std_hat = np.dot(residuals, residuals) / (n - p)\n",
    "standart_residuals = np.asarray([residuals[i] / np.sqrt(std_hat * (1 - H[i, i])) for i in range(len(residuals))])\n",
    "student_residuals = np.asarray([ standart_residuals[i] * np.sqrt((n - p - 1) / (n - p - standart_residuals[i]**2)) for i in range(n) ])\n",
    "cook = np.asarray([ H[i, i] * student_residuals[i] / (X_train.shape[1] * (1 - H[i, i])) for i in range(n) ])\n",
    "\n",
    "plt.figure(figsize=(20, 12))\n",
    "plt.subplot(221)\n",
    "plt.scatter(Y_pred, student_residuals, s=12, c=\"white\", edgecolors=\"blue\")\n",
    "plt.plot([min(Y_pred), max(Y_pred)], [ scipy.stats.t.ppf(q=0.975, df=n-p-1), scipy.stats.t.ppf(q=0.975, df=n-p-1)], color=\"green\", alpha=0.6, label=\"Quantile de Student\")\n",
    "plt.title(\"Analyse de l’homoscédasticité\")\n",
    "plt.xlabel(\"Prédictions $\\hat{y}_i$\")\n",
    "plt.ylabel(\"Résidus studentisés $|t_i^*|$\")\n",
    "plt.legend()"
   ]
  },
  {
   "cell_type": "code",
   "execution_count": null,
   "metadata": {
    "colab": {},
    "colab_type": "code",
    "id": "RHy-a9jROmws"
   },
   "outputs": [],
   "source": []
  }
 ],
 "metadata": {
  "colab": {
   "name": "ModeleLineaire1.ipynb",
   "provenance": []
  },
  "kernelspec": {
   "display_name": "Python 3 (ipykernel)",
   "language": "python",
   "name": "python3"
  },
  "language_info": {
   "codemirror_mode": {
    "name": "ipython",
    "version": 3
   },
   "file_extension": ".py",
   "mimetype": "text/x-python",
   "name": "python",
   "nbconvert_exporter": "python",
   "pygments_lexer": "ipython3",
   "version": "3.9.13"
  },
  "latex_envs": {
   "LaTeX_envs_menu_present": true,
   "autoclose": false,
   "autocomplete": true,
   "bibliofile": "biblio.bib",
   "cite_by": "apalike",
   "current_citInitial": 1,
   "eqLabelWithNumbers": true,
   "eqNumInitial": 1,
   "hotkeys": {
    "equation": "Ctrl-E",
    "itemize": "Ctrl-I"
   },
   "labels_anchors": false,
   "latex_user_defs": false,
   "report_style_numbering": false,
   "user_envs_cfg": false
  },
  "toc": {
   "base_numbering": 1,
   "nav_menu": {},
   "number_sections": true,
   "sideBar": true,
   "skip_h1_title": false,
   "title_cell": "Table of Contents",
   "title_sidebar": "Contents",
   "toc_cell": false,
   "toc_position": {},
   "toc_section_display": true,
   "toc_window_display": false
  },
  "varInspector": {
   "cols": {
    "lenName": 16,
    "lenType": 16,
    "lenVar": 40
   },
   "kernels_config": {
    "python": {
     "delete_cmd_postfix": "",
     "delete_cmd_prefix": "del ",
     "library": "var_list.py",
     "varRefreshCmd": "print(var_dic_list())"
    },
    "r": {
     "delete_cmd_postfix": ") ",
     "delete_cmd_prefix": "rm(",
     "library": "var_list.r",
     "varRefreshCmd": "cat(var_dic_list()) "
    }
   },
   "types_to_exclude": [
    "module",
    "function",
    "builtin_function_or_method",
    "instance",
    "_Feature"
   ],
   "window_display": false
  }
 },
 "nbformat": 4,
 "nbformat_minor": 1
}
